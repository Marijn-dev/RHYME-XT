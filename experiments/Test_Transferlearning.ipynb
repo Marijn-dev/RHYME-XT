{
 "cells": [
  {
   "cell_type": "code",
   "execution_count": 1,
   "id": "3026c924",
   "metadata": {},
   "outputs": [],
   "source": [
    "import torch\n",
    "import matplotlib.pyplot as plt\n",
    "import matplotlib as mpl\n",
    "import numpy as np\n",
    "torch.set_default_dtype(torch.float32)\n",
    "from flumen import CausalFlowModel,TrunkNet, TrajectoryDataset\n",
    "from flumen.utils import pack_model_inputs, plot_amari, trajectory,plot_space_time_flat_trajectory_V2\n",
    "from torch.utils.data import DataLoader\n",
    "\n",
    "from generate_data import make_trajectory_sampler\n",
    "\n",
    "from argparse import ArgumentParser\n",
    "\n",
    "import yaml\n",
    "from pathlib import Path\n",
    "import sys\n",
    "from pprint import pprint\n",
    "from time import time\n",
    "import os\n",
    "os.chdir(\"C:/Users/20192139/Documents/5ARG45 - Thesis/Code/FlowFunction/flumen\")  # Change this to your actual path\n",
    "import wandb\n",
    "import pickle\n",
    "from flumen import CausalFlowModel, print_gpu_info, TrajectoryDataset, TrunkNet\n",
    "import torch\n",
    "import seaborn as sns\n"
   ]
  },
  {
   "cell_type": "code",
   "execution_count": 4,
   "id": "f59eb19e",
   "metadata": {},
   "outputs": [],
   "source": [
    "\n",
    "def return_model(path):\n",
    "    api = wandb.Api()\n",
    "    model_artifact = api.artifact(path)\n",
    "    model_path = Path(model_artifact.download())\n",
    "    model_run = model_artifact.logged_by()\n",
    "#     print(model_run.summary)\n",
    "    device = \"cpu\"\n",
    "    # Load model state dictionary\n",
    "    with open(model_path / \"state_dict.pth\", 'rb') as f:\n",
    "        state_dict = torch.load(f, map_location=torch.device(\"cpu\"))  # Ensure compatibility\n",
    "\n",
    "    with open(model_path / \"metadata.yaml\", 'r') as f:\n",
    "        metadata: dict = yaml.load(f, Loader=yaml.FullLoader)\n",
    "#     pprint(metadata)\n",
    "#     print(metadata[\"args\"])\n",
    "    trunk_model = TrunkNet(in_size=256,out_size=100,hidden_size=metadata['args']['trunk_size_svd'],use_batch_norm=False)\n",
    "\n",
    "    model = CausalFlowModel(**metadata[\"args\"],trunk_model=trunk_model)\n",
    "    model.load_state_dict(state_dict)\n",
    "    model.eval()\n",
    "    total_params = sum(p.numel() for p in model.parameters() if p.requires_grad)\n",
    "    print(f\"Total trainable parameters: {total_params}\")\n",
    "    return model\n",
    "\n",
    "device = 'cpu'"
   ]
  },
  {
   "cell_type": "markdown",
   "id": "6ccef441",
   "metadata": {},
   "source": [
    "## Kernel 1"
   ]
  },
  {
   "cell_type": "code",
   "execution_count": 9,
   "id": "57747803",
   "metadata": {},
   "outputs": [
    {
     "name": "stderr",
     "output_type": "stream",
     "text": [
      "WARNING    C:\\Users\\20192139\\AppData\\Local\\Temp\\ipykernel_28840\\967337786.py:1: FutureWarning: You are using `torch.load` with `weights_only=False` (the current default value), which uses the default pickle module implicitly. It is possible to construct malicious pickle data which will execute arbitrary code during unpickling (See https://github.com/pytorch/pytorch/blob/main/SECURITY.md#untrusted-models for more details). In a future release, the default value for `weights_only` will be flipped to `True`. This limits the functions that could be executed during unpickling. Arbitrary objects will no longer be allowed to be loaded via this mode unless they are explicitly allowlisted by the user via `torch.serialization.add_safe_globals`. We recommend you start setting `weights_only=True` for any use case where you don't have full control of the loaded file. Please open an issue on GitHub for any issues related to this experimental feature.\n",
      "  test_data = torch.load(\"data/Brian2/gaussian_test.pt\")\n",
      " [py.warnings]\n",
      "\u001b[34m\u001b[1mwandb\u001b[0m:   2 of 2 files downloaded.  \n",
      "WARNING    C:\\Users\\20192139\\AppData\\Local\\Temp\\ipykernel_28840\\3414605082.py:10: FutureWarning: You are using `torch.load` with `weights_only=False` (the current default value), which uses the default pickle module implicitly. It is possible to construct malicious pickle data which will execute arbitrary code during unpickling (See https://github.com/pytorch/pytorch/blob/main/SECURITY.md#untrusted-models for more details). In a future release, the default value for `weights_only` will be flipped to `True`. This limits the functions that could be executed during unpickling. Arbitrary objects will no longer be allowed to be loaded via this mode unless they are explicitly allowlisted by the user via `torch.serialization.add_safe_globals`. We recommend you start setting `weights_only=True` for any use case where you don't have full control of the loaded file. Please open an issue on GitHub for any issues related to this experimental feature.\n",
      "  state_dict = torch.load(f, map_location=torch.device(\"cpu\"))  # Ensure compatibility\n",
      " [py.warnings]\n"
     ]
    },
    {
     "name": "stdout",
     "output_type": "stream",
     "text": [
      "True\n",
      "Total trainable parameters: 1066351\n"
     ]
    },
    {
     "name": "stderr",
     "output_type": "stream",
     "text": [
      "\u001b[34m\u001b[1mwandb\u001b[0m:   2 of 2 files downloaded.  \n"
     ]
    },
    {
     "name": "stdout",
     "output_type": "stream",
     "text": [
      "True\n",
      "Total trainable parameters: 1066351\n"
     ]
    },
    {
     "name": "stderr",
     "output_type": "stream",
     "text": [
      "\u001b[34m\u001b[1mwandb\u001b[0m:   2 of 2 files downloaded.  \n"
     ]
    },
    {
     "name": "stdout",
     "output_type": "stream",
     "text": [
      "True\n",
      "Total trainable parameters: 1066351\n"
     ]
    },
    {
     "name": "stderr",
     "output_type": "stream",
     "text": [
      "\u001b[34m\u001b[1mwandb\u001b[0m:   2 of 2 files downloaded.  \n"
     ]
    },
    {
     "name": "stdout",
     "output_type": "stream",
     "text": [
      "True\n",
      "Total trainable parameters: 1066351\n",
      "l1 flow:  0.0377863633735937 std:  0.02455342483998703\n",
      "l1 flow:  0.10857557014642671 std:  0.020924393135265788\n",
      "l1 flow:  0.08284926041908937 std:  0.020042979666964757\n",
      "l1 flow:  0.07376223568024684 std:  0.024699660401091676\n"
     ]
    }
   ],
   "source": [
    "test_data = torch.load(\"data/Brian2/gaussian_test.pt\")\n",
    "model_T2500 = \"marijn-eindhoven-university-of-technology/Ablation/flow_model-brian_T2500_S100_LOOP-A_NL_100_L1:v54\"\n",
    "model_T90 = \"marijn-eindhoven-university-of-technology/mu_1/flow_model-brian2_gaussian_T100-Scratch_T100_A_Nonlinear_100_L1:v30\"\n",
    "model_mu_2 = \"marijn-eindhoven-university-of-technology/mu_1/flow_model-brian2_gaussian_T100-T90_mu2:v11\"\n",
    "model_mu_3 = \"marijn-eindhoven-university-of-technology/mu_1/flow_model-brian2_gaussian_T100-T90_mu3:v29\"\n",
    "model_T2500 = return_model(model_T2500)\n",
    "model_T90 = return_model(model_T90)\n",
    "model_mu_2 = return_model(model_mu_2)\n",
    "model_mu_3 = return_model(model_mu_3)\n",
    "models = [model_T2500,model_T90,model_mu_2,model_mu_3]\n",
    "    \n",
    "all_losses_l1 = []\n",
    "for model in models:\n",
    "    model.to(device)\n",
    "    trajectory_losses = []\n",
    "    y_pred_flow = []\n",
    "    for i in range(0,len(test_data['x0'])):\n",
    "        with torch.no_grad():\n",
    "            x0_feed = test_data['x0'][i]\n",
    "            t_feed = test_data['t'][i]\n",
    "            u_feed = test_data['u'][i]\n",
    "            deltas_feed = test_data['deltas'][i]\n",
    "            y_pred, basis_functions = model(x0_feed.to(device), u_feed.to(device),test_data['locations'].to(device),deltas_feed.to(device))\n",
    "            y_pred_flow.append(y_pred.to('cpu').numpy())\n",
    "    \n",
    "    y_pred_flow = np.array(y_pred_flow)      \n",
    "    \n",
    "    losses_flow_total = []\n",
    "    # iterate over trajectories\n",
    "    for i in range(len(test_data['y'])):\n",
    "        y = test_data['y'][i]\n",
    "        y_pred_flow_i = np.flip(y_pred_flow[i], axis=0)\n",
    "        losses_flow_total.append(np.mean(np.abs(y_pred_flow_i - y))) # L1\n",
    "#         losses_flow_total.append(np.mean((y_pred_flow_i - y)**2)) # L2\n",
    "    losses_flow_total = np.array(losses_flow_total)\n",
    "    all_losses_l1.append(losses_flow_total)\n",
    "    print('l1 flow: ', np.mean(losses_flow_total), \"std: \", np.std(losses_flow_total))"
   ]
  },
  {
   "cell_type": "code",
   "execution_count": null,
   "id": "5324ed6f",
   "metadata": {},
   "outputs": [],
   "source": [
    "test_data = torch.load(\"data/Brian2/gaussian_test.pt\")\n",
    "model_T2500 = \"marijn-eindhoven-university-of-technology/Ablation/flow_model-brian_T2500_S100_LOOP-A_NL_100_L1:v54\"\n",
    "model_T90 = \"marijn-eindhoven-university-of-technology/mu_1/flow_model-brian2_gaussian_T100-Scratch_T100_A_Nonlinear_100_L1:v30\"\n",
    "model_mu_2 = \"marijn-eindhoven-university-of-technology/mu_1/flow_model-brian2_gaussian_T100-T90_mu2:v11\"\n",
    "model_mu_3 = \"marijn-eindhoven-university-of-technology/mu_1/flow_model-brian2_gaussian_T100-T90_mu3:v29\"\n",
    "model_T2500 = return_model(model_T2500)\n",
    "model_T90 = return_model(model_T90)\n",
    "model_mu_2 = return_model(model_mu_2)\n",
    "model_mu_3 = return_model(model_mu_3)\n",
    "models = [model_T2500,model_T90,model_mu_2,model_mu_3]\n",
    "    \n",
    "all_losses_mse = []\n",
    "for model in models:\n",
    "    model.to(device)\n",
    "    trajectory_losses = []\n",
    "    y_pred_flow = []\n",
    "    for i in range(0,len(test_data['x0'])):\n",
    "        with torch.no_grad():\n",
    "            x0_feed = test_data['x0'][i]\n",
    "            t_feed = test_data['t'][i]\n",
    "            u_feed = test_data['u'][i]\n",
    "            deltas_feed = test_data['deltas'][i]\n",
    "            y_pred, basis_functions = model(x0_feed.to(device), u_feed.to(device),test_data['locations'].to(device),deltas_feed.to(device))\n",
    "            y_pred_flow.append(y_pred.to('cpu').numpy())\n",
    "    \n",
    "    y_pred_flow = np.array(y_pred_flow)      \n",
    "    \n",
    "    losses_flow_total = []\n",
    "    # iterate over trajectories\n",
    "    for i in range(len(test_data['y'])):\n",
    "        y = test_data['y'][i]\n",
    "        y_pred_flow_i = np.flip(y_pred_flow[i], axis=0)\n",
    "        losses_flow_total.append(np.mean((y_pred_flow_i - y)**2)) # L2\n",
    "    losses_flow_total = np.array(losses_flow_total)\n",
    "    all_losses_mse.append(losses_flow_total)\n",
    "    print('l1 flow: ', np.mean(losses_flow_total), \"std: \", np.std(losses_flow_total))"
   ]
  },
  {
   "cell_type": "code",
   "execution_count": 5,
   "id": "18569b9a",
   "metadata": {},
   "outputs": [
    {
     "name": "stderr",
     "output_type": "stream",
     "text": [
      "WARNING    C:\\Users\\20192139\\AppData\\Local\\Temp\\ipykernel_24116\\3644731057.py:1: FutureWarning: You are using `torch.load` with `weights_only=False` (the current default value), which uses the default pickle module implicitly. It is possible to construct malicious pickle data which will execute arbitrary code during unpickling (See https://github.com/pytorch/pytorch/blob/main/SECURITY.md#untrusted-models for more details). In a future release, the default value for `weights_only` will be flipped to `True`. This limits the functions that could be executed during unpickling. Arbitrary objects will no longer be allowed to be loaded via this mode unless they are explicitly allowlisted by the user via `torch.serialization.add_safe_globals`. We recommend you start setting `weights_only=True` for any use case where you don't have full control of the loaded file. Please open an issue on GitHub for any issues related to this experimental feature.\n",
      "  test_data = torch.load(\"data/Brian2/mexhat_test.pt\")\n",
      " [py.warnings]\n",
      "Failed to detect the name of this notebook, you can set it manually with the WANDB_NOTEBOOK_NAME environment variable to enable code saving.\n",
      "\u001b[34m\u001b[1mwandb\u001b[0m: Using wandb-core as the SDK backend.  Please refer to https://wandb.me/wandb-core for more information.\n",
      "\u001b[34m\u001b[1mwandb\u001b[0m:   2 of 2 files downloaded.  \n"
     ]
    },
    {
     "name": "stdout",
     "output_type": "stream",
     "text": [
      "True\n"
     ]
    },
    {
     "name": "stderr",
     "output_type": "stream",
     "text": [
      "WARNING    C:\\Users\\20192139\\AppData\\Local\\Temp\\ipykernel_24116\\3414605082.py:10: FutureWarning: You are using `torch.load` with `weights_only=False` (the current default value), which uses the default pickle module implicitly. It is possible to construct malicious pickle data which will execute arbitrary code during unpickling (See https://github.com/pytorch/pytorch/blob/main/SECURITY.md#untrusted-models for more details). In a future release, the default value for `weights_only` will be flipped to `True`. This limits the functions that could be executed during unpickling. Arbitrary objects will no longer be allowed to be loaded via this mode unless they are explicitly allowlisted by the user via `torch.serialization.add_safe_globals`. We recommend you start setting `weights_only=True` for any use case where you don't have full control of the loaded file. Please open an issue on GitHub for any issues related to this experimental feature.\n",
      "  state_dict = torch.load(f, map_location=torch.device(\"cpu\"))  # Ensure compatibility\n",
      " [py.warnings]\n"
     ]
    },
    {
     "name": "stdout",
     "output_type": "stream",
     "text": [
      "Total trainable parameters: 1066351\n"
     ]
    },
    {
     "name": "stderr",
     "output_type": "stream",
     "text": [
      "\u001b[34m\u001b[1mwandb\u001b[0m:   2 of 2 files downloaded.  \n"
     ]
    },
    {
     "name": "stdout",
     "output_type": "stream",
     "text": [
      "True\n",
      "Total trainable parameters: 1066351\n"
     ]
    },
    {
     "name": "stderr",
     "output_type": "stream",
     "text": [
      "\u001b[34m\u001b[1mwandb\u001b[0m:   2 of 2 files downloaded.  \n"
     ]
    },
    {
     "name": "stdout",
     "output_type": "stream",
     "text": [
      "True\n",
      "Total trainable parameters: 1066351\n"
     ]
    },
    {
     "name": "stderr",
     "output_type": "stream",
     "text": [
      "\u001b[34m\u001b[1mwandb\u001b[0m:   2 of 2 files downloaded.  \n"
     ]
    },
    {
     "name": "stdout",
     "output_type": "stream",
     "text": [
      "True\n",
      "Total trainable parameters: 1066351\n",
      "l1 flow:  0.024520119968604846 std:  0.007571746782194086\n",
      "l1 flow:  0.07518548583822005 std:  0.013509254115450894\n",
      "l1 flow:  0.03310730729214389 std:  0.009002937803801455\n"
     ]
    }
   ],
   "source": [
    "test_data = torch.load(\"data/Brian2/mexhat_test.pt\")\n",
    "model_T2500 = \"marijn-eindhoven-university-of-technology/mu_2/flow_model-brian2_mexhat_T2500-A_Nonlinear_100_L1:v65\"\n",
    "model_T90 = \"marijn-eindhoven-university-of-technology/mu_1/flow_model-brian2_mexhat_T100-Scratch_T100_A_Nonlinear_100_L1:v23\"\n",
    "model_mu_1 = \"marijn-eindhoven-university-of-technology/mu_2/flow_model-brian2_mexhat_T100-T90_mu1:v25\"\n",
    "model_mu_3 = \"marijn-eindhoven-university-of-technology/mu_1/flow_model-brian2_mexhat_T100-T90_mu3:v11\"\n",
    "model_T2500 = return_model(model_T2500)\n",
    "model_T90 = return_model(model_T90)\n",
    "model_mu_1 = return_model(model_mu_1)\n",
    "model_mu_3 = return_model(model_mu_3)\n",
    "models = [model_T2500,model_T90,model_mu_1,model_mu_3]\n",
    "models = [model_T2500,model_T90,model_mu_3]\n",
    "\n",
    "all_losses_l1 = []\n",
    "for model in models:\n",
    "    model.to(device)\n",
    "    trajectory_losses = []\n",
    "    y_pred_flow = []\n",
    "    for i in range(0,len(test_data['x0'])):\n",
    "        with torch.no_grad():\n",
    "            x0_feed = test_data['x0'][i]\n",
    "            t_feed = test_data['t'][i]\n",
    "            u_feed = test_data['u'][i]\n",
    "            deltas_feed = test_data['deltas'][i]\n",
    "            y_pred, basis_functions = model(x0_feed.to(device), u_feed.to(device),test_data['locations'].to(device),deltas_feed.to(device))\n",
    "            y_pred_flow.append(y_pred.to('cpu').numpy())\n",
    "    \n",
    "    y_pred_flow = np.array(y_pred_flow)      \n",
    "    \n",
    "    losses_flow_total = []\n",
    "    # iterate over trajectories\n",
    "    for i in range(len(test_data['y'])):\n",
    "        y = test_data['y'][i]\n",
    "        y_pred_flow_i = np.flip(y_pred_flow[i], axis=0)\n",
    "        losses_flow_total.append(np.mean(np.abs(y_pred_flow_i - y))) # L1\n",
    "#         losses_flow_total.append(np.mean((y_pred_flow_i - y)**2)) # L2\n",
    "    losses_flow_total = np.array(losses_flow_total)\n",
    "    all_losses_l1.append(losses_flow_total)\n",
    "    print('l1 flow: ', np.mean(losses_flow_total), \"std: \", np.std(losses_flow_total))"
   ]
  },
  {
   "cell_type": "code",
   "execution_count": 11,
   "id": "4c4cb529",
   "metadata": {},
   "outputs": [
    {
     "data": {
      "text/plain": [
       "Text(0, 0.5, 'Mean Average Error')"
      ]
     },
     "execution_count": 11,
     "metadata": {},
     "output_type": "execute_result"
    },
    {
     "data": {
      "image/png": "[encoded data removed]",
      "text/plain": [
       "<Figure size 1400x1045 with 1 Axes>"
      ]
     },
     "metadata": {},
     "output_type": "display_data"
    }
   ],
   "source": [
    "all_losses_x10_l1 = [arr  for arr in all_losses_l1]\n",
    "# all_losses_x10_l1 = all_losses_x10_l1[::-1]\n",
    "# all_losses_x10_mse = all_losses_x10_mse[::-1]\n",
    "\n",
    "# Number of predictions (for figure height scaling)\n",
    "n_preds = 1\n",
    "\n",
    "# Style settings\n",
    "mpl.rcParams.update({\n",
    "    'text.usetex': False,\n",
    "    'axes.titlesize': 18,\n",
    "    'axes.labelsize': 18,\n",
    "    'xtick.labelsize': 16,\n",
    "    'ytick.labelsize': 16,\n",
    "    'legend.fontsize': 20,\n",
    "    'font.size': 18,\n",
    "    'axes.grid': True,\n",
    "    'grid.linestyle': '-',\n",
    "    'grid.alpha': 0.7,\n",
    "    'lines.linewidth': 1.5,\n",
    "    'figure.figsize': [14, 5.5 * (n_preds + 0.9)],  # width fixed, height scales\n",
    "})\n",
    "\n",
    "# Example data (scaled by 10)\n",
    "np.random.seed(0)\n",
    "\n",
    "\n",
    "# Create side-by-side subplots\n",
    "fig, axes = plt.subplots(1, 1, sharey=False)  # sharey makes them comparable\n",
    "\n",
    "# Left subplot\n",
    "sns.boxplot(data=[all_losses_x10_l1[1],all_losses_x10_l1[2],all_losses_x10_l1[0]], color='lightblue', ax=axes)\n",
    "axes.set_xticks(range(3))\n",
    "# axes.set_xticklabels([])\n",
    "# axes.set_title(\"\")\n",
    "axes.set_ylabel(\"Mean Average Error\")\n",
    "# axes.set_xlabel(r\"Amount of data\")\n",
    "\n"
   ]
  },
  {
   "cell_type": "code",
   "execution_count": null,
   "id": "bd34f526",
   "metadata": {},
   "outputs": [],
   "source": []
  }
 ],
 "metadata": {
  "kernelspec": {
   "display_name": "Thesisenv",
   "language": "python",
   "name": "thesisenv"
  },
  "language_info": {
   "codemirror_mode": {
    "name": "ipython",
    "version": 3
   },
   "file_extension": ".py",
   "mimetype": "text/x-python",
   "name": "python",
   "nbconvert_exporter": "python",
   "pygments_lexer": "ipython3",
   "version": "3.11.10"
  }
 },
 "nbformat": 4,
 "nbformat_minor": 5
}
