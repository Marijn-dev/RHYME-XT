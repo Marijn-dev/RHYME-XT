{
 "cells": [
  {
   "cell_type": "code",
   "execution_count": 19,
   "id": "9c8c8965",
   "metadata": {},
   "outputs": [],
   "source": [
    "\n",
    "import torch\n",
    "import torch.nn as nn\n",
    "from torch.utils.data import DataLoader\n",
    "\n",
    "torch.set_default_dtype(torch.float32)\n",
    "\n",
    "import pickle, yaml\n",
    "from pathlib import Path\n",
    "\n",
    "from flumen import CausalFlowModel, print_gpu_info, TrajectoryDataset, TrunkNet\n",
    "from flumen.train import EarlyStopping, train_step, validate\n",
    "\n",
    "from flumen.utils import trajectory,plot_space_time_flat_trajectory, plot_space_time_flat_trajectory_V2\n",
    "from argparse import ArgumentParser\n",
    "import time\n",
    "import matplotlib.pyplot as plt\n",
    "\n",
    "import wandb\n",
    "import os\n",
    "import numpy as np\n",
    "from sklearn.decomposition import PCA\n",
    "from sklearn.preprocessing import StandardScaler\n",
    "import torch\n",
    "import deepxde as dde\n",
    "\n",
    "from deepxde.nn.pytorch.fnn import FNN\n",
    "from deepxde.nn.pytorch.nn import NN\n",
    "from deepxde.nn import activations\n",
    "from deepxde.utils.external import plot_best_state,plot_loss_history\n",
    "import os\n",
    "os.chdir(\"C:/Users/20192139/Documents/5ARG45 - Thesis/Code/FlowFunction/flumen\")  # Change this to your actual path\n",
    "\n",
    "def get_data(data):\n",
    "    nx = 100\n",
    "    nt = 101\n",
    "    x = data[\"x\"].astype(np.float32)\n",
    "    t = data[\"t\"].astype(np.float32)\n",
    "    u = data[\"u\"].astype(np.float32)  # N x nt x nx\n",
    "    f = data[\"forcing\"].astype(np.float32)  # N x nx\n",
    "    u0 = u[:, 0, :]  # N x nx\n",
    "    u0_and_f = np.concatenate([u0, f], axis=1)  # shape N, nx2\n",
    "    \n",
    "    xt = np.vstack((np.ravel(x), np.ravel(t))).T\n",
    "    u = u.reshape(-1, nt * nx)\n",
    "    return (u0_and_f, xt), u\n",
    "\n",
    "\n",
    "class PODDeepONet(NN):\n",
    "    \"\"\"Deep operator network with proper orthogonal decomposition (POD) for dataset in\n",
    "    the format of Cartesian product.\n",
    "\n",
    "    Args:\n",
    "        pod_basis: POD basis used in the trunk net.\n",
    "        layer_sizes_branch: A list of integers as the width of a fully connected network,\n",
    "            or `(dim, f)` where `dim` is the input dimension and `f` is a network\n",
    "            function. The width of the last layer in the branch and trunk net should be\n",
    "            equal.\n",
    "        activation: If `activation` is a ``string``, then the same activation is used in\n",
    "            both trunk and branch nets. If `activation` is a ``dict``, then the trunk\n",
    "            net uses the activation `activation[\"trunk\"]`, and the branch net uses\n",
    "            `activation[\"branch\"]`.\n",
    "        layer_sizes_trunk (list): A list of integers as the width of a fully connected\n",
    "            network. If ``None``, then only use POD basis as the trunk net.\n",
    "\n",
    "    References:\n",
    "        `L. Lu, X. Meng, S. Cai, Z. Mao, S. Goswami, Z. Zhang, & G. E. Karniadakis. A\n",
    "        comprehensive and fair comparison of two neural operators (with practical\n",
    "        extensions) based on FAIR data. arXiv preprint arXiv:2111.05512, 2021\n",
    "        <https://arxiv.org/abs/2111.05512>`_.\n",
    "    \"\"\"\n",
    "\n",
    "    def __init__(\n",
    "        self,\n",
    "        pod_basis,\n",
    "        layer_sizes_branch,\n",
    "        activation,\n",
    "        kernel_initializer,\n",
    "        layer_sizes_trunk=None,\n",
    "        regularization=None,\n",
    "    ):\n",
    "        super().__init__()\n",
    "        self.regularizer = regularization\n",
    "        self.pod_basis = torch.as_tensor(pod_basis, dtype=torch.float32)\n",
    "        if isinstance(activation, dict):\n",
    "            activation_branch = activation[\"branch\"]\n",
    "            self.activation_trunk = activations.get(activation[\"trunk\"])\n",
    "        else:\n",
    "            activation_branch = self.activation_trunk = activations.get(activation)\n",
    "\n",
    "        if callable(layer_sizes_branch[1]):\n",
    "            # User-defined network\n",
    "            self.branch = layer_sizes_branch[1]\n",
    "        else:\n",
    "            # Fully connected network\n",
    "            self.branch = FNN(layer_sizes_branch, activation_branch, kernel_initializer)\n",
    "\n",
    "        self.trunk = None\n",
    "        if layer_sizes_trunk is not None:\n",
    "            self.trunk = FNN(\n",
    "                layer_sizes_trunk, self.activation_trunk, kernel_initializer\n",
    "            )\n",
    "            self.b = torch.nn.parameter.Parameter(torch.tensor(0.0))\n",
    "\n",
    "        print(\"POD basis shape:\", self.pod_basis.shape)\n",
    "\n",
    "    def forward(self, inputs):\n",
    "        x_func = inputs[0]\n",
    "        x_loc = inputs[1]\n",
    "        # Branch net to encode the input function\n",
    "        x_func = self.branch(x_func)\n",
    "        # Trunk net to encode the domain of the output function\n",
    "        if self.trunk is None:\n",
    "            # POD only\n",
    "            x = torch.einsum(\"bi,ni->bn\", x_func, self.pod_basis)\n",
    "        else:\n",
    "            x_loc = self.activation_trunk(self.trunk(x_loc))\n",
    "            x = torch.einsum(\n",
    "                \"bi,ni->bn\", x_func, torch.concat((self.pod_basis, x_loc), 1)\n",
    "            )\n",
    "            x += self.b\n",
    "\n",
    "        if self._output_transform is not None:\n",
    "            x = self._output_transform(inputs, x)\n",
    "        return x\n",
    "\n"
   ]
  },
  {
   "cell_type": "markdown",
   "id": "85a7b879",
   "metadata": {},
   "source": [
    "Load in data"
   ]
  },
  {
   "cell_type": "code",
   "execution_count": 5,
   "id": "0c4ccab9",
   "metadata": {},
   "outputs": [],
   "source": [
    "# sys_args = ap.parse_args()\n",
    "# data_don = \"data/Brian2/DeepONet/brian2_gaussian_DeepONet_T2500.pkl\"\n",
    "data_don = \"data/Brian2/DeepONet/brian2_gaussian_DeepONet_T500_Time10.pkl\"\n",
    "# data_flow = \"data/Brian2/Transfer_Learning/brian2_mexhat_T2500.pkl\"\n",
    "data_path = Path(data_don)\n",
    "with data_path.open('rb') as f:\n",
    "    data = pickle.load(f)\n",
    "loc = data['Locations'] * 100 # scale"
   ]
  },
  {
   "cell_type": "code",
   "execution_count": null,
   "id": "627dc82c",
   "metadata": {},
   "outputs": [],
   "source": []
  },
  {
   "cell_type": "code",
   "execution_count": 9,
   "id": "10ebe4a7",
   "metadata": {},
   "outputs": [
    {
     "name": "stdout",
     "output_type": "stream",
     "text": [
      "101\n",
      "torch.Size([101, 100])\n"
     ]
    },
    {
     "ename": "IndexError",
     "evalue": "index 15 is out of bounds for dimension 0 with size 11",
     "output_type": "error",
     "traceback": [
      "\u001b[1;31m---------------------------------------------------------------------------\u001b[0m",
      "\u001b[1;31mIndexError\u001b[0m                                Traceback (most recent call last)",
      "\u001b[1;32m~\\AppData\\Local\\Temp/ipykernel_26860/474246877.py\u001b[0m in \u001b[0;36m<module>\u001b[1;34m\u001b[0m\n\u001b[0;32m     96\u001b[0m \u001b[1;31m#     return data\u001b[0m\u001b[1;33m\u001b[0m\u001b[1;33m\u001b[0m\u001b[0m\n\u001b[0;32m     97\u001b[0m \u001b[1;33m\u001b[0m\u001b[0m\n\u001b[1;32m---> 98\u001b[1;33m \u001b[0mdata_train\u001b[0m \u001b[1;33m=\u001b[0m \u001b[0mprepare_data\u001b[0m\u001b[1;33m(\u001b[0m\u001b[0mdata\u001b[0m\u001b[1;33m[\u001b[0m\u001b[1;34m'train'\u001b[0m\u001b[1;33m]\u001b[0m\u001b[1;33m,\u001b[0m\u001b[0mloc\u001b[0m\u001b[1;33m,\u001b[0m\u001b[0mend\u001b[0m\u001b[1;33m=\u001b[0m\u001b[1;32mNone\u001b[0m\u001b[1;33m)\u001b[0m \u001b[1;31m# end is hardcoded, needed for some accumulating error\u001b[0m\u001b[1;33m\u001b[0m\u001b[1;33m\u001b[0m\u001b[0m\n\u001b[0m\u001b[0;32m     99\u001b[0m \u001b[0mdata_test\u001b[0m \u001b[1;33m=\u001b[0m \u001b[0mprepare_data\u001b[0m\u001b[1;33m(\u001b[0m\u001b[0mdata\u001b[0m\u001b[1;33m[\u001b[0m\u001b[1;34m'val'\u001b[0m\u001b[1;33m]\u001b[0m\u001b[1;33m,\u001b[0m\u001b[0mloc\u001b[0m\u001b[1;33m,\u001b[0m\u001b[0mend\u001b[0m\u001b[1;33m=\u001b[0m\u001b[1;32mNone\u001b[0m\u001b[1;33m)\u001b[0m \u001b[1;31m# end is hardcoded\u001b[0m\u001b[1;33m\u001b[0m\u001b[1;33m\u001b[0m\u001b[0m\n",
      "\u001b[1;32m~\\AppData\\Local\\Temp/ipykernel_26860/474246877.py\u001b[0m in \u001b[0;36mprepare_data\u001b[1;34m(dataset, l, end)\u001b[0m\n\u001b[0;32m     43\u001b[0m             \u001b[0mchunk\u001b[0m \u001b[1;33m=\u001b[0m \u001b[0my\u001b[0m\u001b[1;33m[\u001b[0m\u001b[0mi\u001b[0m\u001b[1;33m:\u001b[0m\u001b[0mi\u001b[0m \u001b[1;33m+\u001b[0m \u001b[0msegment_length\u001b[0m\u001b[1;33m]\u001b[0m\u001b[1;33m\u001b[0m\u001b[1;33m\u001b[0m\u001b[0m\n\u001b[0;32m     44\u001b[0m             \u001b[0mu_total\u001b[0m\u001b[1;33m.\u001b[0m\u001b[0mappend\u001b[0m\u001b[1;33m(\u001b[0m\u001b[0mchunk\u001b[0m\u001b[1;33m)\u001b[0m\u001b[1;33m\u001b[0m\u001b[1;33m\u001b[0m\u001b[0m\n\u001b[1;32m---> 45\u001b[1;33m             \u001b[0mforcing_total\u001b[0m\u001b[1;33m.\u001b[0m\u001b[0mappend\u001b[0m\u001b[1;33m(\u001b[0m\u001b[0mu\u001b[0m\u001b[1;33m[\u001b[0m\u001b[0mk\u001b[0m\u001b[1;33m]\u001b[0m\u001b[1;33m)\u001b[0m\u001b[1;33m\u001b[0m\u001b[1;33m\u001b[0m\u001b[0m\n\u001b[0m\u001b[0;32m     46\u001b[0m             \u001b[0mk\u001b[0m \u001b[1;33m+=\u001b[0m \u001b[1;36m10\u001b[0m\u001b[1;33m\u001b[0m\u001b[1;33m\u001b[0m\u001b[0m\n\u001b[0;32m     47\u001b[0m     \u001b[0mu_total\u001b[0m \u001b[1;33m=\u001b[0m \u001b[0mtorch\u001b[0m\u001b[1;33m.\u001b[0m\u001b[0mstack\u001b[0m\u001b[1;33m(\u001b[0m\u001b[0mu_total\u001b[0m\u001b[1;33m)\u001b[0m\u001b[1;33m\u001b[0m\u001b[1;33m\u001b[0m\u001b[0m\n",
      "\u001b[1;31mIndexError\u001b[0m: index 15 is out of bounds for dimension 0 with size 11"
     ]
    }
   ],
   "source": [
    "def process_example(start_idx, end_idx, t, u, delta):\n",
    "    init_time = 0.\n",
    "\n",
    "    u_start_idx = int(np.floor((t[start_idx] - init_time) / delta))\n",
    "    u_end_idx = int(np.floor((t[end_idx] - init_time) / delta))\n",
    "    u_sz = 1 + u_end_idx - u_start_idx\n",
    "    u_seq = torch.zeros_like(u)\n",
    "    u_seq[0:u_sz] = u[u_start_idx:(u_end_idx + 1)]\n",
    "\n",
    "    deltas = torch.ones((u_seq.shape[0], 1))\n",
    "    t_u_end = init_time + delta * u_end_idx\n",
    "    t_u_start = init_time + delta * u_start_idx\n",
    "\n",
    "    if u_sz > 1:\n",
    "        deltas[0] = (1. - (t[start_idx] - t_u_start) / delta).item()\n",
    "        deltas[u_sz - 1] = ((t[end_idx] - t_u_end) / delta).item()\n",
    "    else:\n",
    "        deltas[0] = ((t[end_idx] - t[start_idx]) / delta).item()\n",
    "\n",
    "    deltas[u_sz:] = 0.\n",
    "\n",
    "    rnn_input = torch.hstack((u_seq, deltas))\n",
    "    return rnn_input, u_sz, t_u_end\n",
    "\n",
    "def prepare_data(dataset,l,end):\n",
    "    '''prepares data in DeepONet format'''\n",
    "    init_state = []\n",
    "    state = []\n",
    "    seq_len_data = []\n",
    "    rnn_input_data = []\n",
    "    time_data = []\n",
    "    time_u_data = []\n",
    "    forcing_total = []\n",
    "    u_total = []\n",
    "    segment_length = 21\n",
    "    # iterate over the batches in the dataset\n",
    "    for j, batch in enumerate(dataset):\n",
    "        x0, x0_n, t, y, y_n, u = batch # unpack values in batch\n",
    "        print(len(t))\n",
    "        print(y.shape)\n",
    "        k = 5\n",
    "        for i in range(0, y.shape[0]-segment_length+1, segment_length-1):\n",
    "            print(i)\n",
    "            chunk = y[i:i + segment_length]\n",
    "            u_total.append(chunk)\n",
    "            forcing_total.append(u[k])\n",
    "            k += 10\n",
    "    u_total = torch.stack(u_total) \n",
    "    forcing_total = torch.stack(forcing_total) \n",
    "    \n",
    "    t = np.linspace(0.0,10,21) \n",
    "    t, x = np.meshgrid(t, l.numpy(), indexing='ij')\n",
    "    \n",
    "    data = {\n",
    "    'x': x,\n",
    "    't': t,\n",
    "    'u': u_total.numpy(),\n",
    "    'forcing': forcing_total.numpy()}\n",
    "    return data\n",
    "\n",
    "#     state = torch.stack(state)\n",
    "#     init_state = torch.stack(init_state)\n",
    "#     rnn_input_data = torch.stack(rnn_input_data)\n",
    "#     time_data = torch.stack(time_data)\n",
    "#     forcing_total = []\n",
    "#     time_total = []\n",
    "#     y_total = []\n",
    "#     x0_total = []\n",
    "#     j = 0\n",
    "#     counter = 0\n",
    "#     for i in range(1,len(init_state)):\n",
    "#         if (i-20) % 100 == 0:\n",
    "#             j = 0\n",
    "#             counter = counter + 1\n",
    "#         if i % 20 == 0:\n",
    "#             if i == end:\n",
    "#                 break\n",
    "#             print(time_data[i-20+counter:i+counter])\n",
    "#             forcing_deltas = rnn_input_data[i]\n",
    "#             deltas = forcing_deltas[:,-1]\n",
    "#             forcing = forcing_deltas[:, :-1]\n",
    "#             forcing_total.append(forcing[j,:])\n",
    "#             y_total.append(state[i-20+counter:i+counter])\n",
    "#             time_total.append(time_data[i-20+counter:i+counter])\n",
    "#             x0_total.append(init_state[i])\n",
    "#             j += 10\n",
    "            \n",
    "#     t = np.linspace(0.5,10,20) \n",
    "#     t, x = np.meshgrid(t, l.numpy(), indexing='ij')\n",
    "\n",
    "#     data = {\n",
    "#     'x': x,\n",
    "#     'x0':torch.stack(x0_total).numpy(),\n",
    "#     't': t,\n",
    "#     'u': torch.stack(y_total).numpy(),\n",
    "#     'forcing': torch.stack(forcing_total).numpy()}\n",
    "#     return data\n",
    "\n",
    "data_train = prepare_data(data['train'],loc,end=None) # end is hardcoded, needed for some accumulating error\n",
    "data_test = prepare_data(data['val'],loc,end=None) # end is hardcoded"
   ]
  },
  {
   "cell_type": "code",
   "execution_count": 18,
   "id": "fd1985db",
   "metadata": {},
   "outputs": [],
   "source": [
    "def prepare_data_10seconds(dataset,l,end):\n",
    "    '''prepares data in DeepONet format'''\n",
    "    init_state = []\n",
    "    state = []\n",
    "    seq_len_data = []\n",
    "    rnn_input_data = []\n",
    "    time_data = []\n",
    "    time_u_data = []\n",
    "    forcing_total = []\n",
    "    u_total = []\n",
    "    segment_length = 101\n",
    "    # iterate over the batches in the dataset\n",
    "    for j, batch in enumerate(dataset):\n",
    "        x0, x0_n, t, y, y_n, u = batch # unpack values in batch\n",
    "        forcing_total.append(u[5])\n",
    "        u_total.append(y)\n",
    "\n",
    "    u_total = torch.stack(u_total) \n",
    "    forcing_total = torch.stack(forcing_total) \n",
    "    \n",
    "    t = np.linspace(0.0,10,101) \n",
    "    t, x = np.meshgrid(t, l.numpy(), indexing='ij')\n",
    "    \n",
    "    data = {\n",
    "    'x': x,\n",
    "    't': t,\n",
    "    'u': u_total.numpy(),\n",
    "    'forcing': forcing_total.numpy()}\n",
    "    return data\n",
    "\n",
    "data_train = prepare_data_10seconds(data['train'],loc,end=None) # end is hardcoded, needed for some accumulating error\n",
    "data_test = prepare_data_10seconds(data['val'],loc,end=None) # end is hardcoded"
   ]
  },
  {
   "cell_type": "code",
   "execution_count": 20,
   "id": "72fcefdd",
   "metadata": {},
   "outputs": [
    {
     "name": "stdout",
     "output_type": "stream",
     "text": [
      "Compiling model...\n",
      "'compile' took 0.000663 s\n",
      "\n"
     ]
    }
   ],
   "source": [
    "x_train, y_train = get_data(data_train) \n",
    "x_test, y_test = get_data(data_test) \n",
    "# np.save(\"data/Brian2/DeepONet/x_train_gaussian.npy\", x_train)\n",
    "# np.save(\"data/Brian2/DeepONet/y_train_gaussian.npy\", y_train)\n",
    "# np.save(\"data/Brian2/DeepONet/x_test_gaussian.npy\", x_test)\n",
    "# np.save(\"data/Brian2/DeepONet/y_test_gaussian\", y_test)\n",
    "data = dde.data.TripleCartesianProd(x_train, y_train, x_test, y_test)\n",
    "nx = 100\n",
    "input_dim_branch = 2 * nx\n",
    "input_dim_trunk = 2\n",
    "net = dde.nn.DeepONetCartesianProd(\n",
    "    [input_dim_branch, 320, 320,320,320,320,320,320],\n",
    "    [input_dim_trunk, 320, 320,320,320,320,320,320],\n",
    "    \"relu\",\n",
    "    \"Glorot normal\",\n",
    ")\n",
    "\n",
    "def mae_torch(y_true, y_pred):\n",
    "    if not torch.is_tensor(y_true):\n",
    "        y_true = torch.tensor(y_true)\n",
    "    if not torch.is_tensor(y_pred):\n",
    "        y_pred = torch.tensor(y_pred)\n",
    "    return torch.mean(torch.abs(y_true - y_pred))\n",
    "\n",
    "model = dde.Model(data, net)\n",
    "model.compile(\n",
    "    \"adam\",\n",
    "    lr=1e-3,\n",
    "    decay=(\"inverse time\", 1, 1e-4),\n",
    "    metrics=[mae_torch],\n",
    ")"
   ]
  },
  {
   "cell_type": "code",
   "execution_count": 21,
   "id": "f3843d52",
   "metadata": {},
   "outputs": [],
   "source": [
    "callbacks = [\n",
    "    dde.callbacks.EarlyStopping(monitor=\"loss_test\", patience=100,start_from_epoch=100),\n",
    "    dde.callbacks.ModelCheckpoint(\"models_DON/DeepONet/gaussian_T2500_deep_1208/model_l1.ckpt\", save_better_only=True),\n",
    "]"
   ]
  },
  {
   "cell_type": "code",
   "execution_count": 24,
   "id": "e48cc58a",
   "metadata": {},
   "outputs": [
    {
     "name": "stdout",
     "output_type": "stream",
     "text": [
      "starting training\n",
      "Warning: epochs is deprecated and will be removed in a future version. Use iterations instead.\n",
      "Training model...\n",
      "\n",
      "Step      Train loss    Test loss     Test metric   \n",
      "830       [8.91e-03]    [1.75e-02]    [7.14e-02]    \n",
      "831       [9.19e-03]    [1.74e-02]    [7.26e-02]    \n",
      "\n",
      "Best model at step 780:\n",
      "  train loss: 8.64e-03\n",
      "  test loss: 1.69e-02\n",
      "  test metric: [6.91e-02]\n",
      "\n",
      "Epoch 831: saving model to models_DON/DeepONet/gaussian_T2500_deep_1208/L1-831.pt ...\n",
      "\n",
      "'train' took 1.250565 s\n",
      "\n",
      "<deepxde.model.LossHistory object at 0x00000239415356D0>\n",
      "<deepxde.model.TrainState object at 0x0000023941535AC0>\n"
     ]
    }
   ],
   "source": [
    "print('starting training')\n",
    "losshistory, train_state = model.train(epochs=1, batch_size=None,display_every=10,model_save_path='models_DON/DeepONet/gaussian_T2500_deep_1208/L1',callbacks = callbacks)\n",
    "print(losshistory)\n",
    "print(train_state)\n"
   ]
  },
  {
   "cell_type": "code",
   "execution_count": 26,
   "id": "e1d8e644",
   "metadata": {},
   "outputs": [
    {
     "name": "stdout",
     "output_type": "stream",
     "text": [
      "(100, 10100)\n",
      "(100, 101, 100)\n"
     ]
    }
   ],
   "source": [
    "#model.restore(\"models_DON/DeepONet/-27100.pt\", verbose=1)  # Replace ? with the exact filename\n",
    "model.restore(\"models_DON/DeepONet/gaussian_T2500_deep_1208/L1-831.pt\")\n",
    "\n",
    "pred = model.predict(data.test_x)\n",
    "print(pred.shape)\n",
    "nt = 101\n",
    "nx = 100\n",
    "pred = pred.reshape(-1,nt, nx)\n",
    "print(pred.shape)\n",
    "out = data.test_y.reshape(-1,nt, nx)\n"
   ]
  },
  {
   "cell_type": "code",
   "execution_count": 97,
   "id": "20f470e3",
   "metadata": {},
   "outputs": [
    {
     "name": "stdout",
     "output_type": "stream",
     "text": [
      "(1, 1)\n",
      "[[0.4675654]]\n"
     ]
    }
   ],
   "source": [
    "branch_sample = np.ones(1, 200).astype(np.float32)\n",
    "trunk_sample = np.ones(1, 2).astype(np.float32)\n",
    "\n",
    "pred = model.predict((branch_sample, trunk_sample))\n",
    "print(pred.shape)\n",
    "print(pred)"
   ]
  },
  {
   "cell_type": "code",
   "execution_count": 41,
   "id": "954fe00d",
   "metadata": {},
   "outputs": [
    {
     "data": {
      "image/png": "[encoded data removed]",
      "text/plain": [
       "<Figure size 1152x432 with 4 Axes>"
      ]
     },
     "metadata": {
      "needs_background": "light"
     },
     "output_type": "display_data"
    }
   ],
   "source": [
    "import matplotlib.pyplot as plt\n",
    "\n",
    "traj = 3  # Choose trajectory index\n",
    "\n",
    "fig, axes = plt.subplots(1, 2, figsize=(16, 6), constrained_layout=True)\n",
    "\n",
    "# Plot prediction\n",
    "im0 = axes[0].imshow(pred[traj].T, aspect='auto', origin='lower', extent=[0, 1000, 0, 100])\n",
    "axes[0].set_title(\"Predicted Solution Heatmap\")\n",
    "axes[0].set_xlabel(\"Time step\")\n",
    "axes[0].set_ylabel(\"Spatial coordinate\")\n",
    "fig.colorbar(im0, ax=axes[0], label=\"Value\")\n",
    "\n",
    "# Plot ground truth or output\n",
    "im1 = axes[1].imshow(out[traj].T, aspect='auto', origin='lower', extent=[0, 1000, 0, 100])\n",
    "axes[1].set_title(\"True Solution Heatmap\")\n",
    "axes[1].set_xlabel(\"Time step\")\n",
    "axes[1].set_ylabel(\"Spatial coordinate\")\n",
    "fig.colorbar(im1, ax=axes[1], label=\"Value\")\n",
    "\n",
    "plt.show()"
   ]
  },
  {
   "cell_type": "code",
   "execution_count": 51,
   "id": "c5e2d329",
   "metadata": {},
   "outputs": [
    {
     "name": "stdout",
     "output_type": "stream",
     "text": [
      "(1,)\n",
      "1\n",
      "(101,)\n"
     ]
    },
    {
     "ename": "IndexError",
     "evalue": "index 101 is out of bounds for axis 0 with size 101",
     "output_type": "error",
     "traceback": [
      "\u001b[1;31m---------------------------------------------------------------------------\u001b[0m",
      "\u001b[1;31mIndexError\u001b[0m                                Traceback (most recent call last)",
      "\u001b[1;32m~\\AppData\\Local\\Temp/ipykernel_26860/1307161700.py\u001b[0m in \u001b[0;36m<module>\u001b[1;34m\u001b[0m\n\u001b[0;32m      8\u001b[0m     \u001b[0mplt\u001b[0m\u001b[1;33m.\u001b[0m\u001b[0mfigure\u001b[0m\u001b[1;33m(\u001b[0m\u001b[0mfigsize\u001b[0m\u001b[1;33m=\u001b[0m\u001b[1;33m(\u001b[0m\u001b[1;36m8\u001b[0m\u001b[1;33m,\u001b[0m \u001b[1;36m4\u001b[0m\u001b[1;33m)\u001b[0m\u001b[1;33m)\u001b[0m\u001b[1;33m\u001b[0m\u001b[1;33m\u001b[0m\u001b[0m\n\u001b[0;32m      9\u001b[0m     \u001b[0mprint\u001b[0m\u001b[1;33m(\u001b[0m\u001b[0mx\u001b[0m\u001b[1;33m.\u001b[0m\u001b[0mshape\u001b[0m\u001b[1;33m)\u001b[0m\u001b[1;33m\u001b[0m\u001b[1;33m\u001b[0m\u001b[0m\n\u001b[1;32m---> 10\u001b[1;33m     \u001b[0mplt\u001b[0m\u001b[1;33m.\u001b[0m\u001b[0mplot\u001b[0m\u001b[1;33m(\u001b[0m\u001b[0mout\u001b[0m\u001b[1;33m[\u001b[0m\u001b[0mtraj\u001b[0m\u001b[1;33m]\u001b[0m\u001b[1;33m[\u001b[0m\u001b[0mj\u001b[0m\u001b[1;33m]\u001b[0m\u001b[1;33m,\u001b[0m \u001b[0mlabel\u001b[0m\u001b[1;33m=\u001b[0m\u001b[1;34m\"Ground Truth\"\u001b[0m\u001b[1;33m,\u001b[0m \u001b[0mlinewidth\u001b[0m\u001b[1;33m=\u001b[0m\u001b[1;36m2\u001b[0m\u001b[1;33m)\u001b[0m\u001b[1;33m\u001b[0m\u001b[1;33m\u001b[0m\u001b[0m\n\u001b[0m\u001b[0;32m     11\u001b[0m     \u001b[0mplt\u001b[0m\u001b[1;33m.\u001b[0m\u001b[0mplot\u001b[0m\u001b[1;33m(\u001b[0m\u001b[0mpred\u001b[0m\u001b[1;33m[\u001b[0m\u001b[0mtraj\u001b[0m\u001b[1;33m]\u001b[0m\u001b[1;33m[\u001b[0m\u001b[0mj\u001b[0m\u001b[1;33m]\u001b[0m\u001b[1;33m,\u001b[0m \u001b[1;34m'--'\u001b[0m\u001b[1;33m,\u001b[0m \u001b[0mlabel\u001b[0m\u001b[1;33m=\u001b[0m\u001b[1;34m\"Prediction\"\u001b[0m\u001b[1;33m,\u001b[0m \u001b[0mlinewidth\u001b[0m\u001b[1;33m=\u001b[0m\u001b[1;36m2\u001b[0m\u001b[1;33m)\u001b[0m\u001b[1;33m\u001b[0m\u001b[1;33m\u001b[0m\u001b[0m\n\u001b[0;32m     12\u001b[0m     \u001b[0mplt\u001b[0m\u001b[1;33m.\u001b[0m\u001b[0mxlabel\u001b[0m\u001b[1;33m(\u001b[0m\u001b[1;34m\"Spatial coordinate\"\u001b[0m\u001b[1;33m)\u001b[0m\u001b[1;33m\u001b[0m\u001b[1;33m\u001b[0m\u001b[0m\n",
      "\u001b[1;31mIndexError\u001b[0m: index 101 is out of bounds for axis 0 with size 101"
     ]
    },
    {
     "data": {
      "text/plain": [
       "<Figure size 576x288 with 0 Axes>"
      ]
     },
     "metadata": {},
     "output_type": "display_data"
    }
   ],
   "source": [
    "# Example values\n",
    "timesteps_to_plot = np.arange(1, 100, 100)\n",
    "x = np.linspace(0, 90, pred.shape[1])  # replace with your actual x array if available\n",
    "print(timesteps_to_plot.shape)\n",
    "j = 101\n",
    "for t in timesteps_to_plot:\n",
    "    print(t)\n",
    "    plt.figure(figsize=(8, 4))\n",
    "    print(x.shape)\n",
    "    plt.plot(out[traj][j], label=\"Ground Truth\", linewidth=2)\n",
    "    plt.plot(pred[traj][j], '--', label=\"Prediction\", linewidth=2)\n",
    "    plt.xlabel(\"Spatial coordinate\")\n",
    "    plt.ylabel(\"Solution value\")\n",
    "    plt.title(f\"timestep {t}\")\n",
    "    plt.legend()\n",
    "    plt.grid(True)\n",
    "    plt.tight_layout()\n",
    "    plt.show()"
   ]
  },
  {
   "cell_type": "code",
   "execution_count": null,
   "id": "d9f96151",
   "metadata": {},
   "outputs": [],
   "source": []
  }
 ],
 "metadata": {
  "kernelspec": {
   "display_name": "Python 3 (ipykernel)",
   "language": "python",
   "name": "python3"
  },
  "language_info": {
   "codemirror_mode": {
    "name": "ipython",
    "version": 3
   },
   "file_extension": ".py",
   "mimetype": "text/x-python",
   "name": "python",
   "nbconvert_exporter": "python",
   "pygments_lexer": "ipython3",
   "version": "3.9.7"
  }
 },
 "nbformat": 4,
 "nbformat_minor": 5
}
